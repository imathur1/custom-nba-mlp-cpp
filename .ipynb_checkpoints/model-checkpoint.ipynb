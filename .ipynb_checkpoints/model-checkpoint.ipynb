{
 "cells": [
  {
   "cell_type": "code",
   "execution_count": null,
   "id": "3ed81cd7-d7a8-4b4b-a25d-3cf9a0db2676",
   "metadata": {},
   "outputs": [],
   "source": [
    "import pandas as pd"
   ]
  },
  {
   "cell_type": "code",
   "execution_count": null,
   "id": "d26cbb8d-29ac-4947-98f3-b48012d986c1",
   "metadata": {},
   "outputs": [],
   "source": [
    "df = pd.read_csv(\"data.csv\")\n",
    "df[\"pick\"] = df[\"pick\"].notnull().astype('int')\n",
    "Y = df[\"pick\"]\n",
    "df = df.drop([\"yr\", \"ht\", \"num\", \"ast/tov\", \"rimmade\", \"rimmade+rimmiss\", \"midmade\", \"midmade+midmiss\", \n",
    "             \"rimmade/(rimmade+rimmiss)\", \"midmade/(midmade+midmiss)\", \"dunksmade\", \"dunksmiss+dunksmade\",\n",
    "             \"dunksmade/(dunksmade+dunksmiss)\", \"Unnamed: 64\", \"Unnamed: 65\", \"pick\", \"team\", \"conf\", \n",
    "              \"type\", \"year\", \"pid\", \"player_name\"], axis=1)\n",
    "print(len(df.columns))\n",
    "df[\"Rec Rank\"] = df[\"Rec Rank\"].fillna(0)\n",
    "df = df.dropna()\n",
    "df = (df - df.min()) / (df.max() - df.min())\n",
    "# print(df.loc[df[\"player_name\"] == \"Evan Mobley\"][\"pick\"])"
   ]
  },
  {
   "cell_type": "code",
   "execution_count": null,
   "id": "865d8c6b-3a3d-41e8-81d4-38cd67094fb9",
   "metadata": {},
   "outputs": [],
   "source": []
  },
  {
   "cell_type": "code",
   "execution_count": null,
   "id": "041f3a90-ad16-4926-9dc0-b50c374b1df1",
   "metadata": {},
   "outputs": [],
   "source": []
  }
 ],
 "metadata": {
  "kernelspec": {
   "display_name": "Python 3",
   "language": "python",
   "name": "python3"
  },
  "language_info": {
   "codemirror_mode": {
    "name": "ipython",
    "version": 3
   },
   "file_extension": ".py",
   "mimetype": "text/x-python",
   "name": "python",
   "nbconvert_exporter": "python",
   "pygments_lexer": "ipython3",
   "version": "3.8.8"
  }
 },
 "nbformat": 4,
 "nbformat_minor": 5
}
